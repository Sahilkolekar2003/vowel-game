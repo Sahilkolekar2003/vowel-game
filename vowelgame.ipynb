{
 "cells": [
  {
   "cell_type": "code",
   "execution_count": 1,
   "id": "66b4b0ef-dd63-431e-b7ba-0246daf24854",
   "metadata": {},
   "outputs": [
    {
     "name": "stdout",
     "output_type": "stream",
     "text": [
      "for : apple\n",
      "a: 1e: 1i: 0o: 0u: 0\n",
      "for : mango\n",
      "a: 1e: 0i: 0o: 1u: 0\n",
      "for : hello\n",
      "a: 0e: 1i: 0o: 1u: 0\n",
      "for : welcome\n",
      "a: 0e: 2i: 0o: 1u: 0\n"
     ]
    }
   ],
   "source": [
    "list1=[\"apple\",\"mango\",\"hello\",\"welcome\"]\n",
    "for i in list1:\n",
    "    m=0\n",
    "    n=0\n",
    "    r=0\n",
    "    b=0\n",
    "    c=0\n",
    "    for j in i:\n",
    "        match j:\n",
    "            case \"a\":m+=1\n",
    "            case \"e\":n+=1\n",
    "            case \"i\":r+=1\n",
    "            case \"o\":b+=1\n",
    "            case \"u\":c+=1\n",
    "            case defoult:continue\n",
    "    print(\"for :\",i)\n",
    "    print(\"a:\",m,end=\"\")\n",
    "    print(\"e:\",n,end=\"\")\n",
    "    print(\"i:\",r,end=\"\")\n",
    "    print(\"o:\",b,end=\"\")\n",
    "    print(\"u:\",c,end=\"\")\n",
    "    print(\"\")"
   ]
  },
  {
   "cell_type": "code",
   "execution_count": null,
   "id": "555386aa-897d-4e57-9db1-ec37cbb84999",
   "metadata": {},
   "outputs": [],
   "source": []
  }
 ],
 "metadata": {
  "kernelspec": {
   "display_name": "Python 3 (ipykernel)",
   "language": "python",
   "name": "python3"
  },
  "language_info": {
   "codemirror_mode": {
    "name": "ipython",
    "version": 3
   },
   "file_extension": ".py",
   "mimetype": "text/x-python",
   "name": "python",
   "nbconvert_exporter": "python",
   "pygments_lexer": "ipython3",
   "version": "3.11.7"
  }
 },
 "nbformat": 4,
 "nbformat_minor": 5
}
